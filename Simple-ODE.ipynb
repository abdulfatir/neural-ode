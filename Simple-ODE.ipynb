{
 "cells": [
  {
   "cell_type": "code",
   "execution_count": 1,
   "metadata": {},
   "outputs": [],
   "source": [
    "%matplotlib inline\n",
    "from scipy.integrate import odeint\n",
    "import numpy as np\n",
    "import matplotlib.pyplot as plt\n",
    "import tensorflow as tf\n",
    "import seaborn as sns\n",
    "import itertools\n",
    "sns.set_style('darkgrid')\n",
    "colors = sns.color_palette()"
   ]
  },
  {
   "cell_type": "markdown",
   "metadata": {},
   "source": [
    "## Simple ODE in Tensorflow"
   ]
  },
  {
   "cell_type": "markdown",
   "metadata": {},
   "source": [
    "This is the true $y'$."
   ]
  },
  {
   "cell_type": "code",
   "execution_count": 2,
   "metadata": {},
   "outputs": [],
   "source": [
    "def odefunc(y, t):\n",
    "    true_A = np.array([[-0.1, 2.0], [-2.0, -0.1]])\n",
    "    return np.matmul(y**3, true_A)"
   ]
  },
  {
   "cell_type": "markdown",
   "metadata": {},
   "source": [
    "This is an approximation of $y'$ using a simple MLP."
   ]
  },
  {
   "cell_type": "code",
   "execution_count": 3,
   "metadata": {},
   "outputs": [],
   "source": [
    "def odefunc_tf(y, t):\n",
    "    with tf.variable_scope('odefunc', reuse=tf.AUTO_REUSE):\n",
    "        y = tf.reshape(y, (-1, 2))\n",
    "        z = tf.layers.dense(y**3, 50, activation=tf.nn.tanh)\n",
    "        z = tf.layers.dense(z, 2, activation=None)\n",
    "    return z"
   ]
  },
  {
   "cell_type": "code",
   "execution_count": 9,
   "metadata": {},
   "outputs": [],
   "source": [
    "def draw_plot(t, true_y, pred_y, step=0):\n",
    "    fig = plt.figure()\n",
    "    ax = fig.add_subplot(111)\n",
    "    ax.set_xlabel('t')\n",
    "    ax.set_ylabel('x,y')\n",
    "    plt.title('%d' % step)\n",
    "    color=colors[4]\n",
    "    ax.plot(t, true_y[:, 0, 0], '-', color=color, label='true x')\n",
    "    ax.plot(t, pred_y[:, 0, 0], '--', color=color, label='est. x')\n",
    "    color=colors[5]\n",
    "    ax.plot(t, true_y[:, 0, 1], '-', color=color, label='true y')\n",
    "    ax.plot(t, pred_y[:, 0, 1], '--', color=color, label='est. y')\n",
    "    ax.set_xlim(t.min(), t.max())\n",
    "    ax.set_ylim(-2, 2)\n",
    "    ax.legend(loc='upper right', shadow=True)\n",
    "    plt.tight_layout()\n",
    "    plt.savefig('imgs/step_{:d}.jpg'.format(step), bbox_inches='tight')\n",
    "    plt.close()"
   ]
  },
  {
   "cell_type": "code",
   "execution_count": 5,
   "metadata": {},
   "outputs": [],
   "source": [
    "batch_time = 10\n",
    "batch_size = 20\n",
    "y0 = np.array([2., 0.])\n",
    "t = np.linspace(0., 25., 1000)\n",
    "true_y = odeint(odefunc, y0, t)\n",
    "\n",
    "def get_batch():\n",
    "    s = np.random.choice(np.arange(1000 - batch_time), batch_size, replace=False)\n",
    "    batch_y0 = true_y[s]\n",
    "    batch_t = t[:batch_time]\n",
    "    batch_y = np.array([true_y[s + i] for i in range(batch_time)])\n",
    "    return batch_y0, batch_t, batch_y"
   ]
  },
  {
   "cell_type": "code",
   "execution_count": 6,
   "metadata": {
    "scrolled": false
   },
   "outputs": [],
   "source": [
    "y0_tf = tf.placeholder(tf.float32, shape=(None, 2), name='initial_value')\n",
    "t_tf = tf.placeholder(tf.float32, shape=(None,), name='steps')\n",
    "target_y = tf.placeholder(tf.float32, shape=(batch_time, batch_size, 2), name='target_values')\n",
    "pred_y = tf.contrib.integrate.odeint(odefunc_tf, y0_tf, t_tf)"
   ]
  },
  {
   "cell_type": "code",
   "execution_count": 7,
   "metadata": {},
   "outputs": [],
   "source": [
    "loss = tf.reduce_mean(tf.abs(target_y - pred_y))\n",
    "optim_op = tf.train.RMSPropOptimizer(1e-3).minimize(loss)\n",
    "init_op = tf.global_variables_initializer()\n",
    "sess = tf.InteractiveSession()"
   ]
  },
  {
   "cell_type": "code",
   "execution_count": 10,
   "metadata": {},
   "outputs": [
    {
     "name": "stdout",
     "output_type": "stream",
     "text": [
      "1 0.07794231\n",
      "100 0.07108314\n",
      "200 0.008024567\n",
      "300 0.006438549\n",
      "400 0.0058195544\n",
      "500 0.007894609\n",
      "600 0.006762387\n",
      "700 0.012875323\n",
      "800 0.0074920463\n",
      "900 0.0067219674\n",
      "1000 0.0010826781\n"
     ]
    }
   ],
   "source": [
    "sess.run(init_op)\n",
    "imgidx = 1\n",
    "for i in range(1, 1000 + 1):\n",
    "    batch_y0, batch_t, batch_y = get_batch()\n",
    "    _, loss_np = sess.run([optim_op, loss], feed_dict={y0_tf: batch_y0,\n",
    "                                                      t_tf: batch_t,\n",
    "                                                      target_y: batch_y})\n",
    "    if i % 100 == 0 or imgidx == 1:\n",
    "        print(i, loss_np)\n",
    "        batch_pred_y = sess.run(pred_y, feed_dict={y0_tf: np.reshape(y0, (1, 2)), t_tf: t})\n",
    "        draw_plot(t, true_y[:, None, :], batch_pred_y, step=imgidx)\n",
    "        imgidx += 1"
   ]
  },
  {
   "cell_type": "code",
   "execution_count": null,
   "metadata": {},
   "outputs": [],
   "source": []
  },
  {
   "cell_type": "code",
   "execution_count": null,
   "metadata": {},
   "outputs": [],
   "source": []
  }
 ],
 "metadata": {
  "kernelspec": {
   "display_name": "Python 3",
   "language": "python",
   "name": "python3"
  },
  "language_info": {
   "codemirror_mode": {
    "name": "ipython",
    "version": 3
   },
   "file_extension": ".py",
   "mimetype": "text/x-python",
   "name": "python",
   "nbconvert_exporter": "python",
   "pygments_lexer": "ipython3",
   "version": "3.6.5"
  }
 },
 "nbformat": 4,
 "nbformat_minor": 2
}
